{
  "nbformat": 4,
  "nbformat_minor": 0,
  "metadata": {
    "colab": {
      "provenance": [],
      "authorship_tag": "ABX9TyNgLZNzkIV42ns5WJqNqbxM",
      "include_colab_link": true
    },
    "kernelspec": {
      "name": "python3",
      "display_name": "Python 3"
    },
    "language_info": {
      "name": "python"
    }
  },
  "cells": [
    {
      "cell_type": "markdown",
      "metadata": {
        "id": "view-in-github",
        "colab_type": "text"
      },
      "source": [
        "<a href=\"https://colab.research.google.com/github/lalithakre/KMeansClustering/blob/main/KMeansClustering.ipynb\" target=\"_parent\"><img src=\"https://colab.research.google.com/assets/colab-badge.svg\" alt=\"Open In Colab\"/></a>"
      ]
    },
    {
      "cell_type": "code",
      "execution_count": null,
      "metadata": {
        "id": "bUY_DMA36Wep"
      },
      "outputs": [],
      "source": [
        "from sklearn.datasets import make_blobs\n",
        "dataset=make_blobs(n_samples=150,n_features=2,centers=3,cluster_std=0.8)\n"
      ]
    },
    {
      "cell_type": "code",
      "source": [
        "dataset"
      ],
      "metadata": {
        "colab": {
          "base_uri": "https://localhost:8080/"
        },
        "id": "pMh2J5Y37To6",
        "outputId": "cd645471-0cb3-4a40-e2f9-f7baec44025c"
      },
      "execution_count": null,
      "outputs": [
        {
          "output_type": "execute_result",
          "data": {
            "text/plain": [
              "(array([[-3.58660209, -2.86292169],\n",
              "        [ 4.2869179 ,  7.1882216 ],\n",
              "        [-4.20094568, -4.27378055],\n",
              "        [ 2.89920162,  7.6096818 ],\n",
              "        [-4.41156488,  6.85977004],\n",
              "        [-2.49000537,  6.57276215],\n",
              "        [-3.77221922,  6.6968208 ],\n",
              "        [ 4.33635602,  7.83417217],\n",
              "        [-4.79219662, -2.86915983],\n",
              "        [-4.05027118,  7.25916398],\n",
              "        [-3.41143598,  6.3111094 ],\n",
              "        [-3.96549582,  6.2543994 ],\n",
              "        [ 4.1209788 ,  9.39371865],\n",
              "        [ 6.42142182,  7.78591727],\n",
              "        [-4.91753111,  6.3942384 ],\n",
              "        [-3.63331681,  7.11661831],\n",
              "        [-6.52073896, -3.5044711 ],\n",
              "        [-4.43861503, -4.87672374],\n",
              "        [ 4.25553823,  8.17289852],\n",
              "        [ 4.32330765,  6.22204305],\n",
              "        [ 4.59788974,  7.9391586 ],\n",
              "        [ 4.77866436,  6.95240604],\n",
              "        [ 4.90586061,  7.11975548],\n",
              "        [-5.15188723, -3.40142703],\n",
              "        [-3.20732018,  6.25752766],\n",
              "        [ 4.89615709,  9.27897529],\n",
              "        [ 3.83462746,  8.05410799],\n",
              "        [-2.38264738,  6.00048628],\n",
              "        [-3.62013711, -3.23047109],\n",
              "        [ 4.46122659,  7.24811223],\n",
              "        [-5.07437383, -4.046391  ],\n",
              "        [-5.18482735, -2.81914526],\n",
              "        [-5.96547327, -3.89474116],\n",
              "        [-4.88630874, -4.33172944],\n",
              "        [-3.75800781, -3.40640363],\n",
              "        [-3.42713793,  7.82865466],\n",
              "        [-3.34934032,  6.40197867],\n",
              "        [-4.53648157, -4.54280295],\n",
              "        [-5.17873363, -5.2593033 ],\n",
              "        [ 4.88131422,  8.32107738],\n",
              "        [ 4.20303834,  8.04054513],\n",
              "        [-4.62430409,  6.92747769],\n",
              "        [-4.95261119, -3.83264632],\n",
              "        [-3.85315693, -3.86067823],\n",
              "        [-2.45598649,  6.64918617],\n",
              "        [-5.22400184, -5.06928966],\n",
              "        [-3.81929571,  6.8324902 ],\n",
              "        [-4.14609232,  7.90233049],\n",
              "        [ 4.21441186,  8.98812204],\n",
              "        [ 3.69140139,  8.62463244],\n",
              "        [ 4.88119337,  7.67887166],\n",
              "        [ 4.64047892,  7.15827959],\n",
              "        [ 3.73202707,  8.43602073],\n",
              "        [-2.28551016,  8.46953779],\n",
              "        [-4.05337659,  8.93140866],\n",
              "        [-6.51191497, -4.05012107],\n",
              "        [ 3.81143585,  7.75718373],\n",
              "        [-4.88985234, -5.43786034],\n",
              "        [-2.65229956,  5.42612234],\n",
              "        [-5.10904119,  5.48874352],\n",
              "        [ 3.31509014,  7.51420018],\n",
              "        [-3.25919896,  6.46829193],\n",
              "        [ 2.5781893 ,  8.19840506],\n",
              "        [-4.04212592,  7.78913344],\n",
              "        [-4.62939121,  5.5136818 ],\n",
              "        [-4.82899237, -4.74218363],\n",
              "        [-3.67489085,  6.11483671],\n",
              "        [-5.38744657,  7.20124791],\n",
              "        [ 5.45179613,  7.53872594],\n",
              "        [-4.44185579, -4.03797456],\n",
              "        [-3.79093304, -4.1639755 ],\n",
              "        [ 3.81383796,  7.00464389],\n",
              "        [-2.61321579,  6.45772758],\n",
              "        [-4.78706638, -2.90027092],\n",
              "        [ 3.06358573,  7.77274735],\n",
              "        [ 4.94062923,  9.20439454],\n",
              "        [ 4.55372383,  7.58183104],\n",
              "        [ 5.55153301,  7.5328902 ],\n",
              "        [-1.79603287,  6.82556838],\n",
              "        [-5.91450645,  6.494618  ],\n",
              "        [-4.71762713, -5.24896692],\n",
              "        [-3.98733719,  5.92868417],\n",
              "        [-5.93192518, -4.1840471 ],\n",
              "        [ 4.37938943,  7.378743  ],\n",
              "        [ 3.78940256,  8.18261847],\n",
              "        [-5.26579301,  6.96570491],\n",
              "        [ 5.53527375,  8.14820733],\n",
              "        [-5.82006501, -4.42902749],\n",
              "        [ 4.2031521 ,  8.5880167 ],\n",
              "        [ 4.61269033,  7.94899896],\n",
              "        [-6.22468959, -4.01421835],\n",
              "        [-3.71191704,  6.97667187],\n",
              "        [-4.61163367, -4.08608859],\n",
              "        [-5.14366583,  7.55173754],\n",
              "        [-4.74120188, -4.28162014],\n",
              "        [-5.44869614, -4.37953265],\n",
              "        [-4.43000939, -3.25136897],\n",
              "        [-5.94696272, -3.13971127],\n",
              "        [ 4.94352298,  7.20101496],\n",
              "        [-5.81893198, -4.61267877],\n",
              "        [-4.97658455, -4.84297758],\n",
              "        [ 4.43579092,  8.33352246],\n",
              "        [-4.29612736,  7.72996169],\n",
              "        [-3.17668606,  8.10465097],\n",
              "        [-4.32179493,  7.83954228],\n",
              "        [-5.67014324, -3.94174581],\n",
              "        [-4.2577838 , -4.04411149],\n",
              "        [ 4.52474325,  7.69151779],\n",
              "        [-3.61648421, -3.34747279],\n",
              "        [-4.21741104, -5.62737075],\n",
              "        [-5.23224482, -2.27320016],\n",
              "        [-5.67751936, -3.75582105],\n",
              "        [ 4.64688109,  8.17211918],\n",
              "        [-2.12808769,  6.44572116],\n",
              "        [-3.10299743,  7.51034781],\n",
              "        [-3.92151352, -2.63376754],\n",
              "        [-3.90114923,  6.17848169],\n",
              "        [ 4.61134586,  8.27791013],\n",
              "        [-6.30661715, -5.80215726],\n",
              "        [-4.092503  ,  7.08443955],\n",
              "        [-3.84716583,  6.3158385 ],\n",
              "        [-5.56769459,  6.25056791],\n",
              "        [ 3.43971962,  7.70348368],\n",
              "        [-4.62172892,  8.03392306],\n",
              "        [ 5.17159973,  7.86561568],\n",
              "        [-3.5162177 ,  6.04700539],\n",
              "        [ 4.38472233,  8.07659875],\n",
              "        [ 3.89550411,  6.95478253],\n",
              "        [ 4.12751205,  7.85224955],\n",
              "        [ 5.25181442,  8.41375438],\n",
              "        [-3.94889318, -3.38421827],\n",
              "        [-3.66600652,  7.67406813],\n",
              "        [-4.16474931, -4.3349228 ],\n",
              "        [-2.9904653 ,  7.26715213],\n",
              "        [-4.14253034,  6.56085146],\n",
              "        [ 4.52334066,  8.46670649],\n",
              "        [ 4.00088277,  7.94019494],\n",
              "        [-3.75062825,  6.73143547],\n",
              "        [-5.98341711, -5.21162883],\n",
              "        [-4.28394001, -3.08776148],\n",
              "        [-5.87354384, -4.20693672],\n",
              "        [ 2.96062993,  8.14108233],\n",
              "        [-4.3761937 ,  8.06886362],\n",
              "        [-2.90846801,  6.55410555],\n",
              "        [ 5.54498497,  8.25878044],\n",
              "        [-6.40480138, -5.6741384 ],\n",
              "        [-3.32153749, -4.78171305],\n",
              "        [-3.81056324,  6.6390778 ],\n",
              "        [-4.68083713, -3.73596242],\n",
              "        [ 4.13170436,  7.54742771]]),\n",
              " array([0, 1, 0, 1, 2, 2, 2, 1, 0, 2, 2, 2, 1, 1, 2, 2, 0, 0, 1, 1, 1, 1,\n",
              "        1, 0, 2, 1, 1, 2, 0, 1, 0, 0, 0, 0, 0, 2, 2, 0, 0, 1, 1, 2, 0, 0,\n",
              "        2, 0, 2, 2, 1, 1, 1, 1, 1, 2, 2, 0, 1, 0, 2, 2, 1, 2, 1, 2, 2, 0,\n",
              "        2, 2, 1, 0, 0, 1, 2, 0, 1, 1, 1, 1, 2, 2, 0, 2, 0, 1, 1, 2, 1, 0,\n",
              "        1, 1, 0, 2, 0, 2, 0, 0, 0, 0, 1, 0, 0, 1, 2, 2, 2, 0, 0, 1, 0, 0,\n",
              "        0, 0, 1, 2, 2, 0, 2, 1, 0, 2, 2, 2, 1, 2, 1, 2, 1, 1, 1, 1, 0, 2,\n",
              "        0, 2, 2, 1, 1, 2, 0, 0, 0, 1, 2, 2, 1, 0, 0, 2, 0, 1]))"
            ]
          },
          "metadata": {},
          "execution_count": 41
        }
      ]
    },
    {
      "cell_type": "code",
      "source": [
        "a=dataset[0]\n",
        "b=dataset[1]"
      ],
      "metadata": {
        "id": "wjoGRj4i7iGq"
      },
      "execution_count": null,
      "outputs": []
    },
    {
      "cell_type": "code",
      "source": [
        "a"
      ],
      "metadata": {
        "colab": {
          "base_uri": "https://localhost:8080/"
        },
        "id": "MzsZBfBA7nLg",
        "outputId": "591e7718-ef39-4138-8c8c-351b7c4f69c7"
      },
      "execution_count": null,
      "outputs": [
        {
          "output_type": "execute_result",
          "data": {
            "text/plain": [
              "array([[-3.58660209, -2.86292169],\n",
              "       [ 4.2869179 ,  7.1882216 ],\n",
              "       [-4.20094568, -4.27378055],\n",
              "       [ 2.89920162,  7.6096818 ],\n",
              "       [-4.41156488,  6.85977004],\n",
              "       [-2.49000537,  6.57276215],\n",
              "       [-3.77221922,  6.6968208 ],\n",
              "       [ 4.33635602,  7.83417217],\n",
              "       [-4.79219662, -2.86915983],\n",
              "       [-4.05027118,  7.25916398],\n",
              "       [-3.41143598,  6.3111094 ],\n",
              "       [-3.96549582,  6.2543994 ],\n",
              "       [ 4.1209788 ,  9.39371865],\n",
              "       [ 6.42142182,  7.78591727],\n",
              "       [-4.91753111,  6.3942384 ],\n",
              "       [-3.63331681,  7.11661831],\n",
              "       [-6.52073896, -3.5044711 ],\n",
              "       [-4.43861503, -4.87672374],\n",
              "       [ 4.25553823,  8.17289852],\n",
              "       [ 4.32330765,  6.22204305],\n",
              "       [ 4.59788974,  7.9391586 ],\n",
              "       [ 4.77866436,  6.95240604],\n",
              "       [ 4.90586061,  7.11975548],\n",
              "       [-5.15188723, -3.40142703],\n",
              "       [-3.20732018,  6.25752766],\n",
              "       [ 4.89615709,  9.27897529],\n",
              "       [ 3.83462746,  8.05410799],\n",
              "       [-2.38264738,  6.00048628],\n",
              "       [-3.62013711, -3.23047109],\n",
              "       [ 4.46122659,  7.24811223],\n",
              "       [-5.07437383, -4.046391  ],\n",
              "       [-5.18482735, -2.81914526],\n",
              "       [-5.96547327, -3.89474116],\n",
              "       [-4.88630874, -4.33172944],\n",
              "       [-3.75800781, -3.40640363],\n",
              "       [-3.42713793,  7.82865466],\n",
              "       [-3.34934032,  6.40197867],\n",
              "       [-4.53648157, -4.54280295],\n",
              "       [-5.17873363, -5.2593033 ],\n",
              "       [ 4.88131422,  8.32107738],\n",
              "       [ 4.20303834,  8.04054513],\n",
              "       [-4.62430409,  6.92747769],\n",
              "       [-4.95261119, -3.83264632],\n",
              "       [-3.85315693, -3.86067823],\n",
              "       [-2.45598649,  6.64918617],\n",
              "       [-5.22400184, -5.06928966],\n",
              "       [-3.81929571,  6.8324902 ],\n",
              "       [-4.14609232,  7.90233049],\n",
              "       [ 4.21441186,  8.98812204],\n",
              "       [ 3.69140139,  8.62463244],\n",
              "       [ 4.88119337,  7.67887166],\n",
              "       [ 4.64047892,  7.15827959],\n",
              "       [ 3.73202707,  8.43602073],\n",
              "       [-2.28551016,  8.46953779],\n",
              "       [-4.05337659,  8.93140866],\n",
              "       [-6.51191497, -4.05012107],\n",
              "       [ 3.81143585,  7.75718373],\n",
              "       [-4.88985234, -5.43786034],\n",
              "       [-2.65229956,  5.42612234],\n",
              "       [-5.10904119,  5.48874352],\n",
              "       [ 3.31509014,  7.51420018],\n",
              "       [-3.25919896,  6.46829193],\n",
              "       [ 2.5781893 ,  8.19840506],\n",
              "       [-4.04212592,  7.78913344],\n",
              "       [-4.62939121,  5.5136818 ],\n",
              "       [-4.82899237, -4.74218363],\n",
              "       [-3.67489085,  6.11483671],\n",
              "       [-5.38744657,  7.20124791],\n",
              "       [ 5.45179613,  7.53872594],\n",
              "       [-4.44185579, -4.03797456],\n",
              "       [-3.79093304, -4.1639755 ],\n",
              "       [ 3.81383796,  7.00464389],\n",
              "       [-2.61321579,  6.45772758],\n",
              "       [-4.78706638, -2.90027092],\n",
              "       [ 3.06358573,  7.77274735],\n",
              "       [ 4.94062923,  9.20439454],\n",
              "       [ 4.55372383,  7.58183104],\n",
              "       [ 5.55153301,  7.5328902 ],\n",
              "       [-1.79603287,  6.82556838],\n",
              "       [-5.91450645,  6.494618  ],\n",
              "       [-4.71762713, -5.24896692],\n",
              "       [-3.98733719,  5.92868417],\n",
              "       [-5.93192518, -4.1840471 ],\n",
              "       [ 4.37938943,  7.378743  ],\n",
              "       [ 3.78940256,  8.18261847],\n",
              "       [-5.26579301,  6.96570491],\n",
              "       [ 5.53527375,  8.14820733],\n",
              "       [-5.82006501, -4.42902749],\n",
              "       [ 4.2031521 ,  8.5880167 ],\n",
              "       [ 4.61269033,  7.94899896],\n",
              "       [-6.22468959, -4.01421835],\n",
              "       [-3.71191704,  6.97667187],\n",
              "       [-4.61163367, -4.08608859],\n",
              "       [-5.14366583,  7.55173754],\n",
              "       [-4.74120188, -4.28162014],\n",
              "       [-5.44869614, -4.37953265],\n",
              "       [-4.43000939, -3.25136897],\n",
              "       [-5.94696272, -3.13971127],\n",
              "       [ 4.94352298,  7.20101496],\n",
              "       [-5.81893198, -4.61267877],\n",
              "       [-4.97658455, -4.84297758],\n",
              "       [ 4.43579092,  8.33352246],\n",
              "       [-4.29612736,  7.72996169],\n",
              "       [-3.17668606,  8.10465097],\n",
              "       [-4.32179493,  7.83954228],\n",
              "       [-5.67014324, -3.94174581],\n",
              "       [-4.2577838 , -4.04411149],\n",
              "       [ 4.52474325,  7.69151779],\n",
              "       [-3.61648421, -3.34747279],\n",
              "       [-4.21741104, -5.62737075],\n",
              "       [-5.23224482, -2.27320016],\n",
              "       [-5.67751936, -3.75582105],\n",
              "       [ 4.64688109,  8.17211918],\n",
              "       [-2.12808769,  6.44572116],\n",
              "       [-3.10299743,  7.51034781],\n",
              "       [-3.92151352, -2.63376754],\n",
              "       [-3.90114923,  6.17848169],\n",
              "       [ 4.61134586,  8.27791013],\n",
              "       [-6.30661715, -5.80215726],\n",
              "       [-4.092503  ,  7.08443955],\n",
              "       [-3.84716583,  6.3158385 ],\n",
              "       [-5.56769459,  6.25056791],\n",
              "       [ 3.43971962,  7.70348368],\n",
              "       [-4.62172892,  8.03392306],\n",
              "       [ 5.17159973,  7.86561568],\n",
              "       [-3.5162177 ,  6.04700539],\n",
              "       [ 4.38472233,  8.07659875],\n",
              "       [ 3.89550411,  6.95478253],\n",
              "       [ 4.12751205,  7.85224955],\n",
              "       [ 5.25181442,  8.41375438],\n",
              "       [-3.94889318, -3.38421827],\n",
              "       [-3.66600652,  7.67406813],\n",
              "       [-4.16474931, -4.3349228 ],\n",
              "       [-2.9904653 ,  7.26715213],\n",
              "       [-4.14253034,  6.56085146],\n",
              "       [ 4.52334066,  8.46670649],\n",
              "       [ 4.00088277,  7.94019494],\n",
              "       [-3.75062825,  6.73143547],\n",
              "       [-5.98341711, -5.21162883],\n",
              "       [-4.28394001, -3.08776148],\n",
              "       [-5.87354384, -4.20693672],\n",
              "       [ 2.96062993,  8.14108233],\n",
              "       [-4.3761937 ,  8.06886362],\n",
              "       [-2.90846801,  6.55410555],\n",
              "       [ 5.54498497,  8.25878044],\n",
              "       [-6.40480138, -5.6741384 ],\n",
              "       [-3.32153749, -4.78171305],\n",
              "       [-3.81056324,  6.6390778 ],\n",
              "       [-4.68083713, -3.73596242],\n",
              "       [ 4.13170436,  7.54742771]])"
            ]
          },
          "metadata": {},
          "execution_count": 43
        }
      ]
    },
    {
      "cell_type": "code",
      "source": [
        "b"
      ],
      "metadata": {
        "colab": {
          "base_uri": "https://localhost:8080/"
        },
        "id": "3BvEpKrw7ndu",
        "outputId": "9cf8f231-27a8-47ec-8f30-3139cc11055e"
      },
      "execution_count": null,
      "outputs": [
        {
          "output_type": "execute_result",
          "data": {
            "text/plain": [
              "array([0, 1, 0, 1, 2, 2, 2, 1, 0, 2, 2, 2, 1, 1, 2, 2, 0, 0, 1, 1, 1, 1,\n",
              "       1, 0, 2, 1, 1, 2, 0, 1, 0, 0, 0, 0, 0, 2, 2, 0, 0, 1, 1, 2, 0, 0,\n",
              "       2, 0, 2, 2, 1, 1, 1, 1, 1, 2, 2, 0, 1, 0, 2, 2, 1, 2, 1, 2, 2, 0,\n",
              "       2, 2, 1, 0, 0, 1, 2, 0, 1, 1, 1, 1, 2, 2, 0, 2, 0, 1, 1, 2, 1, 0,\n",
              "       1, 1, 0, 2, 0, 2, 0, 0, 0, 0, 1, 0, 0, 1, 2, 2, 2, 0, 0, 1, 0, 0,\n",
              "       0, 0, 1, 2, 2, 0, 2, 1, 0, 2, 2, 2, 1, 2, 1, 2, 1, 1, 1, 1, 0, 2,\n",
              "       0, 2, 2, 1, 1, 2, 0, 0, 0, 1, 2, 2, 1, 0, 0, 2, 0, 1])"
            ]
          },
          "metadata": {},
          "execution_count": 44
        }
      ]
    },
    {
      "cell_type": "code",
      "source": [
        "x=a[:,0]\n",
        "y=a[:,1]"
      ],
      "metadata": {
        "id": "RxwF4iEi7npv"
      },
      "execution_count": null,
      "outputs": []
    },
    {
      "cell_type": "code",
      "source": [
        "x"
      ],
      "metadata": {
        "colab": {
          "base_uri": "https://localhost:8080/"
        },
        "id": "lTrw4jx68W9g",
        "outputId": "abf782c5-131e-4a49-c204-e2da5ac97bdd"
      },
      "execution_count": null,
      "outputs": [
        {
          "output_type": "execute_result",
          "data": {
            "text/plain": [
              "array([-3.58660209,  4.2869179 , -4.20094568,  2.89920162, -4.41156488,\n",
              "       -2.49000537, -3.77221922,  4.33635602, -4.79219662, -4.05027118,\n",
              "       -3.41143598, -3.96549582,  4.1209788 ,  6.42142182, -4.91753111,\n",
              "       -3.63331681, -6.52073896, -4.43861503,  4.25553823,  4.32330765,\n",
              "        4.59788974,  4.77866436,  4.90586061, -5.15188723, -3.20732018,\n",
              "        4.89615709,  3.83462746, -2.38264738, -3.62013711,  4.46122659,\n",
              "       -5.07437383, -5.18482735, -5.96547327, -4.88630874, -3.75800781,\n",
              "       -3.42713793, -3.34934032, -4.53648157, -5.17873363,  4.88131422,\n",
              "        4.20303834, -4.62430409, -4.95261119, -3.85315693, -2.45598649,\n",
              "       -5.22400184, -3.81929571, -4.14609232,  4.21441186,  3.69140139,\n",
              "        4.88119337,  4.64047892,  3.73202707, -2.28551016, -4.05337659,\n",
              "       -6.51191497,  3.81143585, -4.88985234, -2.65229956, -5.10904119,\n",
              "        3.31509014, -3.25919896,  2.5781893 , -4.04212592, -4.62939121,\n",
              "       -4.82899237, -3.67489085, -5.38744657,  5.45179613, -4.44185579,\n",
              "       -3.79093304,  3.81383796, -2.61321579, -4.78706638,  3.06358573,\n",
              "        4.94062923,  4.55372383,  5.55153301, -1.79603287, -5.91450645,\n",
              "       -4.71762713, -3.98733719, -5.93192518,  4.37938943,  3.78940256,\n",
              "       -5.26579301,  5.53527375, -5.82006501,  4.2031521 ,  4.61269033,\n",
              "       -6.22468959, -3.71191704, -4.61163367, -5.14366583, -4.74120188,\n",
              "       -5.44869614, -4.43000939, -5.94696272,  4.94352298, -5.81893198,\n",
              "       -4.97658455,  4.43579092, -4.29612736, -3.17668606, -4.32179493,\n",
              "       -5.67014324, -4.2577838 ,  4.52474325, -3.61648421, -4.21741104,\n",
              "       -5.23224482, -5.67751936,  4.64688109, -2.12808769, -3.10299743,\n",
              "       -3.92151352, -3.90114923,  4.61134586, -6.30661715, -4.092503  ,\n",
              "       -3.84716583, -5.56769459,  3.43971962, -4.62172892,  5.17159973,\n",
              "       -3.5162177 ,  4.38472233,  3.89550411,  4.12751205,  5.25181442,\n",
              "       -3.94889318, -3.66600652, -4.16474931, -2.9904653 , -4.14253034,\n",
              "        4.52334066,  4.00088277, -3.75062825, -5.98341711, -4.28394001,\n",
              "       -5.87354384,  2.96062993, -4.3761937 , -2.90846801,  5.54498497,\n",
              "       -6.40480138, -3.32153749, -3.81056324, -4.68083713,  4.13170436])"
            ]
          },
          "metadata": {},
          "execution_count": 46
        }
      ]
    },
    {
      "cell_type": "code",
      "source": [
        "import matplotlib.pyplot as plt\n",
        "plt.scatter(x,y)"
      ],
      "metadata": {
        "colab": {
          "base_uri": "https://localhost:8080/",
          "height": 284
        },
        "id": "p-FoXHy4757w",
        "outputId": "345e46a8-a36f-420f-eba9-ba056f28aa93"
      },
      "execution_count": null,
      "outputs": [
        {
          "output_type": "execute_result",
          "data": {
            "text/plain": [
              "<matplotlib.collections.PathCollection at 0x7f218d096310>"
            ]
          },
          "metadata": {},
          "execution_count": 48
        },
        {
          "output_type": "display_data",
          "data": {
            "text/plain": [
              "<Figure size 432x288 with 1 Axes>"
            ],
            "image/png": "[encoded data removed]"
          },
          "metadata": {
            "needs_background": "light"
          }
        }
      ]
    },
    {
      "cell_type": "code",
      "source": [
        "from sklearn.cluster import KMeans\n",
        "#ob=KMeans()\n",
        "wcss=[]\n",
        "k=[1,2,3,4,5,6,7,8]\n",
        "for i in range(len(k)):\n",
        "  km=KMeans(n_clusters=k[i])\n",
        "  km.fit(a)\n",
        "  wcss.append(km.inertia_)"
      ],
      "metadata": {
        "id": "089ZwUPZ9D1W"
      },
      "execution_count": null,
      "outputs": []
    },
    {
      "cell_type": "code",
      "source": [
        "wcss"
      ],
      "metadata": {
        "colab": {
          "base_uri": "https://localhost:8080/"
        },
        "id": "Cg3o8CFq-ZXF",
        "outputId": "1054f2dd-8a6a-4292-afe2-6df673621695"
      },
      "execution_count": null,
      "outputs": [
        {
          "output_type": "execute_result",
          "data": {
            "text/plain": [
              "[7173.439139222053,\n",
              " 1883.9607443949617,\n",
              " 189.94636115839435,\n",
              " 158.60615753418185,\n",
              " 132.93951037498593,\n",
              " 115.47692405731317,\n",
              " 99.5598178669801,\n",
              " 85.92881057483211]"
            ]
          },
          "metadata": {},
          "execution_count": 53
        }
      ]
    },
    {
      "cell_type": "code",
      "source": [
        "plt.plot(k,wcss)"
      ],
      "metadata": {
        "colab": {
          "base_uri": "https://localhost:8080/",
          "height": 282
        },
        "id": "v2Xo764Y-z8g",
        "outputId": "547e1180-8f11-4590-9f75-2b8115413533"
      },
      "execution_count": null,
      "outputs": [
        {
          "output_type": "execute_result",
          "data": {
            "text/plain": [
              "[<matplotlib.lines.Line2D at 0x7f21870a8730>]"
            ]
          },
          "metadata": {},
          "execution_count": 56
        },
        {
          "output_type": "display_data",
          "data": {
            "text/plain": [
              "<Figure size 432x288 with 1 Axes>"
            ],
            "image/png": "[encoded data removed]"
          },
          "metadata": {
            "needs_background": "light"
          }
        }
      ]
    },
    {
      "cell_type": "code",
      "source": [
        "# three cluster is recommended."
      ],
      "metadata": {
        "id": "iw3q_zLc-4qr"
      },
      "execution_count": null,
      "outputs": []
    },
    {
      "cell_type": "code",
      "source": [
        "kn=KMeans(n_clusters=3)"
      ],
      "metadata": {
        "id": "r2vCECJU_OA8"
      },
      "execution_count": null,
      "outputs": []
    },
    {
      "cell_type": "code",
      "source": [
        "pred=kn.fit_predict(a)"
      ],
      "metadata": {
        "id": "kGdlYcUA_pRi"
      },
      "execution_count": null,
      "outputs": []
    },
    {
      "cell_type": "code",
      "source": [
        "pred"
      ],
      "metadata": {
        "colab": {
          "base_uri": "https://localhost:8080/"
        },
        "id": "Tf7hEKWW_zv-",
        "outputId": "15a3f551-1917-4a6e-f539-b79f5041e8ae"
      },
      "execution_count": null,
      "outputs": [
        {
          "output_type": "execute_result",
          "data": {
            "text/plain": [
              "array([1, 2, 1, 2, 0, 0, 0, 2, 1, 0, 0, 0, 2, 2, 0, 0, 1, 1, 2, 2, 2, 2,\n",
              "       2, 1, 0, 2, 2, 0, 1, 2, 1, 1, 1, 1, 1, 0, 0, 1, 1, 2, 2, 0, 1, 1,\n",
              "       0, 1, 0, 0, 2, 2, 2, 2, 2, 0, 0, 1, 2, 1, 0, 0, 2, 0, 2, 0, 0, 1,\n",
              "       0, 0, 2, 1, 1, 2, 0, 1, 2, 2, 2, 2, 0, 0, 1, 0, 1, 2, 2, 0, 2, 1,\n",
              "       2, 2, 1, 0, 1, 0, 1, 1, 1, 1, 2, 1, 1, 2, 0, 0, 0, 1, 1, 2, 1, 1,\n",
              "       1, 1, 2, 0, 0, 1, 0, 2, 1, 0, 0, 0, 2, 0, 2, 0, 2, 2, 2, 2, 1, 0,\n",
              "       1, 0, 0, 2, 2, 0, 1, 1, 1, 2, 0, 0, 2, 1, 1, 0, 1, 2], dtype=int32)"
            ]
          },
          "metadata": {},
          "execution_count": 73
        }
      ]
    },
    {
      "cell_type": "code",
      "source": [
        "plt.scatter(x,y,c=pred)"
      ],
      "metadata": {
        "colab": {
          "base_uri": "https://localhost:8080/",
          "height": 284
        },
        "id": "4tGjI1W7AD9A",
        "outputId": "ea7d0f2a-2e59-4198-8ab8-161d339f9f84"
      },
      "execution_count": null,
      "outputs": [
        {
          "output_type": "execute_result",
          "data": {
            "text/plain": [
              "<matplotlib.collections.PathCollection at 0x7f2186f427f0>"
            ]
          },
          "metadata": {},
          "execution_count": 77
        },
        {
          "output_type": "display_data",
          "data": {
            "text/plain": [
              "<Figure size 432x288 with 1 Axes>"
            ],
            "image/png": "[encoded data removed]"
          },
          "metadata": {
            "needs_background": "light"
          }
        }
      ]
    }
  ]
}